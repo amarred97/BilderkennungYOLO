{
 "cells": [
  {
   "cell_type": "markdown",
   "id": "6dc6cffe",
   "metadata": {},
   "source": [
    "# YOLO Bilderkennung mit Visual Studio Code und Python\n",
    "\n",
    "## 1. Einleitung\n",
    "\n",
    "In diesem Projekt verwenden wir das YOLOv5-Modell, um Objekte in Bildern zu erkennen. Dieses Notebook richtet sich an Personen, die noch keine Entwicklungsumgebung für maschinelles Lernen eingerichtet haben. Wir werden Schritt für Schritt durch den Installationsprozess von benötigten Komponenten gehen und ein einfaches Beispiel zur Bildklassifikation mit YOLOv5 durchführen.\n",
    "\n",
    "### Ziel des Projekts:\n",
    "- Bilderkennung mit YOLOv5\n",
    "- Installation von notwendigen Tools und Bibliotheken\n",
    "- Verwendung eines Roboflow-Datasets als Datensatzquelle\n",
    "\n",
    "### Voraussetzung:\n",
    "- **Visual Studio Code (VS Code)** ist installiert (Anleitung folgt).\n",
    "- **Python** muss installiert werden (Anleitung folgt).\n",
    "\n",
    "---\n",
    "\n",
    "## 2. Schritt 1: Installieren von Python und PIP\n",
    "\n",
    "1. **Python installieren:**\n",
    "   - Gehe zur [offiziellen Python-Webseite](https://www.python.org/downloads/) und lade die neueste Version von Python herunter.\n",
    "   - **Wichtig:** Achte darauf, das Kontrollkästchen „Add Python to PATH“ während der Installation zu aktivieren.\n",
    "\n",
    "2. **Überprüfen der Installation:**\n",
    "   - Öffne ein Terminal oder die Eingabeaufforderung (Command Prompt) und gib folgendes ein:\n",
    "     ```bash\n",
    "     python --version\n",
    "     ```\n",
    "   - Wenn die Python-Version angezeigt wird, ist Python erfolgreich installiert.\n",
    "\n",
    "3. **PIP installieren:**\n",
    "   - PIP wird normalerweise automatisch mit Python installiert. Überprüfe, ob es korrekt installiert wurde:\n",
    "     ```bash\n",
    "     pip --version\n",
    "     ```\n",
    "\n",
    "---\n",
    "\n",
    "## 3. Schritt 2: Installieren von Visual Studio Code\n",
    "\n",
    "1. **Visual Studio Code herunterladen:**\n",
    "   - Gehe zur [offiziellen Visual Studio Code Webseite](https://code.visualstudio.com/) und lade die neueste Version herunter.\n",
    "\n",
    "2. **Installation von VS Code:**\n",
    "   - Installiere Visual Studio Code, indem du dem Installationsassistenten folgst.\n",
    "\n",
    "3. **Empfohlene Erweiterungen:**\n",
    "   - Öffne Visual Studio Code und installiere die folgenden Erweiterungen:\n",
    "     - **Python**: Gehe zu den Erweiterungen (Extensions) und suche nach „Python“. Installiere die offizielle Python-Erweiterung von Microsoft.\n",
    "     - **Jupyter**: Suche nach „Jupyter“ und installiere die Erweiterung von Microsoft, um Jupyter-Notebooks in VS Code ausführen zu können.\n",
    "\n",
    "---\n",
    "\n",
    "## 4. Schritt 3: Erstellen eines neuen Projekts und Umgebung\n",
    "\n",
    "1. **Erstellen eines neuen Ordners für dein Projekt:**\n",
    "   - Erstelle einen Ordner auf deinem Computer, z. B. „YOLO_Object_Detection“, und öffne diesen Ordner in VS Code.\n",
    "\n",
    "2. **Erstellen einer virtuellen Python-Umgebung (optional, aber empfohlen):**\n",
    "   - Öffne ein Terminal in VS Code (Terminal > New Terminal) und erstelle eine virtuelle Umgebung:\n",
    "     ```bash\n",
    "     python -m venv venv\n",
    "     ```\n",
    "   - Aktiviere die virtuelle Umgebung:\n",
    "     - **Windows:**\n",
    "       ```bash\n",
    "       .\\venv\\Scripts\\activate\n",
    "       ```\n",
    "     - **macOS/Linux:**\n",
    "       ```bash\n",
    "       source venv/bin/activate\n",
    "       ```\n",
    "\n",
    "3. **Installiere notwendige Bibliotheken:**\n",
    "   - Installiere nun alle notwendigen Python-Bibliotheken:\n",
    "     ```bash\n",
    "     pip install torch torchvision\n",
    "     pip install yolov5\n",
    "     pip install matplotlib opencv-python\n",
    "     pip install roboflow\n",
    "     ```\n",
    "\n",
    "---\n",
    "\n",
    "## 5. Schritt 4: Roboflow-Dataset herunterladen und vorbereiten\n",
    "\n",
    "### a. Roboflow API-Integration\n",
    "\n",
    "Verwende den folgenden Code, um das Dataset von Roboflow herunterzuladen:\n"
   ]
  },
  {
   "cell_type": "code",
   "execution_count": null,
   "id": "64a63c21",
   "metadata": {},
   "outputs": [],
   "source": [
    "from roboflow import Roboflow\n",
    "\n",
    "# API-Schlüssel und Projektinformationen\n",
    "rf = Roboflow(api_key=\"R9VyjDodYg9dCZe6zld4\")\n",
    "project = rf.workspace(\"afc-gkbmq\").project(\"logosv3\")\n",
    "version = project.version(2)\n",
    "\n",
    "# Dataset herunterladen und im Format für YOLOv5 speichern\n",
    "dataset = version.download(\"yolov5\")"
   ]
  },
  {
   "cell_type": "markdown",
   "id": "46466198",
   "metadata": {},
   "source": [
    "### b. Anzeigen der heruntergeladenen Bilder\n",
    "\n",
    "Nun kannst du die heruntergeladenen Bilder inspizieren und sicherstellen, dass alles korrekt entpackt wurde."
   ]
  },
  {
   "cell_type": "code",
   "execution_count": null,
   "id": "3a67f681",
   "metadata": {},
   "outputs": [],
   "source": [
    "import os\n",
    "import matplotlib.pyplot as plt\n",
    "from pathlib import Path\n",
    "\n",
    "# Pfad zum heruntergeladenen Dataset\n",
    "image_dir = Path(dataset.location) / 'images'\n",
    "image_files = list(image_dir.glob('*.jpg'))  # Beispiel für JPG-Bilder\n",
    "\n",
    "# Ein Beispielbild anzeigen\n",
    "img = plt.imread(str(image_files[0]))\n",
    "plt.imshow(img)\n",
    "plt.title(\"Beispielbild\")\n",
    "plt.show()\n",
    "\n",
    "print(f\"Anzahl Bilder: {len(image_files)}\")"
   ]
  },
  {
   "cell_type": "markdown",
   "id": "222b600d",
   "metadata": {},
   "source": [
    "## 6. Schritt 5: YOLOv5-Modell und Vorhersagen durchführen\n",
    "### a. Laden des YOLOv5-Modells"
   ]
  },
  {
   "cell_type": "code",
   "execution_count": null,
   "id": "fb959a86",
   "metadata": {},
   "outputs": [],
   "source": [
    "from yolov5 import YOLOv5\n",
    "\n",
    "# YOLOv5-Modell laden (hier verwenden wir YOLOv5 als Platzhalter für YOLOv12)\n",
    "model = YOLOv5('yolov5s.pt')  # Verwende ein vortrainiertes Modell (yolov5s.pt)"
   ]
  },
  {
   "cell_type": "markdown",
   "id": "489733b6",
   "metadata": {},
   "source": [
    "### b. Vorhersagen auf neuen Bildern durchführen"
   ]
  },
  {
   "cell_type": "code",
   "execution_count": null,
   "id": "cb6aad45",
   "metadata": {},
   "outputs": [],
   "source": [
    "# Vorhersagen durchführen\n",
    "for img_path in image_files:\n",
    "    img = plt.imread(str(img_path))\n",
    "    results = model(img)  # YOLOv5 führt die Vorhersage durch\n",
    "\n",
    "    # Ergebnisse anzeigen\n",
    "    results.show()  # Zeigt das Bild mit den erkannten Objekten\n",
    "    results.save(Path(dataset.location) / 'predictions')  # Speichert das Ergebnis im 'predictions'-Verzeichnis\n",
    "\n",
    "print(\"Vorhersagen abgeschlossen!\")"
   ]
  },
  {
   "cell_type": "markdown",
   "id": "17a2f4a5",
   "metadata": {},
   "source": [
    "## 7. Schritt 6: Ausführung und Testen\n",
    "* Du kannst nun das Notebook ausführen und YOLOv5 verwenden, um Objekte auf den Bildern zu erkennen.\n",
    "\n",
    "* Wichtig: Wenn du das YOLOv12-Modell hast, ersetze YOLOv5 durch den entsprechenden YOLOv12-Import und stelle sicher, dass das Modell korrekt geladen wird.\n",
    "\n",
    "## 8. Zusammenfassung\n",
    "* Schritt 1: Installiere Python, PIP und VS Code.\n",
    "\n",
    "* Schritt 2: Richte ein neues Projekt und eine virtuelle Umgebung ein.\n",
    "\n",
    "* Schritt 3: Installiere alle benötigten Python-Bibliotheken.\n",
    "\n",
    "* Schritt 4: Lade das Roboflow-Dataset herunter und bereite es vor.\n",
    "\n",
    "* Schritt 5: Lade das YOLOv5-Modell und beginne mit der Bildvorhersage.\n",
    "\n",
    "Das war's! Du solltest nun in der Lage sein, YOLO zur Objekterkennung in Bildern zu verwenden."
   ]
  }
 ],
 "metadata": {
  "kernelspec": {
   "display_name": "Python 3",
   "language": "python",
   "name": "python3"
  },
  "language_info": {
   "name": "python",
   "version": "3.13.3"
  }
 },
 "nbformat": 4,
 "nbformat_minor": 5
}
